{
 "cells": [
  {
   "cell_type": "code",
   "execution_count": 80,
   "id": "65a8151d-ef5b-40fe-91c6-b05192d95d3a",
   "metadata": {},
   "outputs": [],
   "source": [
    "from bs4 import BeautifulSoup\n",
    "import requests\n",
    "import pandas as pd\n",
    "import numpy as np"
   ]
  },
  {
   "cell_type": "code",
   "execution_count": 81,
   "id": "39dc312c-a7a9-4525-9204-ca610e18573a",
   "metadata": {},
   "outputs": [],
   "source": [
    "URL = \"https://www.amazon.com/s?k=skincare&crid=RROSQ04K0X5Z&sprefix=skincare%2Caps%2C412&ref=nb_sb_noss_2\""
   ]
  },
  {
   "cell_type": "code",
   "execution_count": 82,
   "id": "f19fd70d-7d89-46a5-9683-bacf99d2c0b6",
   "metadata": {},
   "outputs": [],
   "source": [
    "#Headers for request\n",
    "HEADERS = ({'User-Agent':'Mozilla/5.0 (Windows NT 10.0; Win64; x64) AppleWebKit/537.36 (KHTML, like Gecko) Chrome/130.0.0.0 Safari/537.36 Edg/130.0.0.0', 'Accept-Language': 'en-US, en;q=0.5'})"
   ]
  },
  {
   "cell_type": "code",
   "execution_count": 83,
   "id": "3a84d718-3d88-415e-8456-f0b950717a9c",
   "metadata": {},
   "outputs": [],
   "source": [
    "#HTTP Request\n",
    "webpage = requests.get(URL, headers=HEADERS)"
   ]
  },
  {
   "cell_type": "code",
   "execution_count": 84,
   "id": "9ef67519-6fcf-4297-b722-f3b009487943",
   "metadata": {},
   "outputs": [
    {
     "data": {
      "text/plain": [
       "<Response [200]>"
      ]
     },
     "execution_count": 84,
     "metadata": {},
     "output_type": "execute_result"
    }
   ],
   "source": [
    "webpage"
   ]
  },
  {
   "cell_type": "code",
   "execution_count": 85,
   "id": "3dfa886b-fa07-470e-97ae-a2481aa95b8b",
   "metadata": {},
   "outputs": [
    {
     "data": {
      "text/plain": [
       "bytes"
      ]
     },
     "execution_count": 85,
     "metadata": {},
     "output_type": "execute_result"
    }
   ],
   "source": [
    "type(webpage.content)"
   ]
  },
  {
   "cell_type": "code",
   "execution_count": 86,
   "id": "270d1c81-62f5-47d7-b512-4eae8b27047e",
   "metadata": {},
   "outputs": [],
   "source": [
    "#Soup containing all data\n",
    "soup = BeautifulSoup(webpage.content, \"html.parser\")"
   ]
  },
  {
   "cell_type": "code",
   "execution_count": 87,
   "id": "02a5f968-d455-4ea0-9152-5a2b85cb90b8",
   "metadata": {},
   "outputs": [],
   "source": [
    "#Fetch links as list of tag objects\n",
    "links =soup.find_all(\"a\", attrs={'class':'a-link-normal s-underline-text s-underline-link-text s-link-style a-text-normal'})\n"
   ]
  },
  {
   "cell_type": "code",
   "execution_count": 88,
   "id": "06271c83-b701-4e9d-ace5-665303ae1355",
   "metadata": {},
   "outputs": [],
   "source": [
    "link = links[0].get('href')"
   ]
  },
  {
   "cell_type": "code",
   "execution_count": 89,
   "id": "5edc721d-3938-4a99-81fa-b70a707e9985",
   "metadata": {},
   "outputs": [],
   "source": [
    "product_list = \"https://amazon.com\" + link"
   ]
  },
  {
   "cell_type": "code",
   "execution_count": 90,
   "id": "19971783-65fd-4b6e-a862-792afe30dcfa",
   "metadata": {},
   "outputs": [
    {
     "data": {
      "text/plain": [
       "'https://amazon.com/Biodance-Bio-Collagen-Tightening-Hydrating-Molecular/dp/B0B2RM68G2/ref=sr_1_1?crid=RROSQ04K0X5Z&dib=eyJ2IjoiMSJ9.SBQu3fmTy42aIy5ukmO0HPU3W86SPXchDY2jLyXydoykPT2F_zRKVz2FNmF6Zt25HgIpX4nuwagW7nmIT7a3iRea6Pys2ki2OLON8vB5uVT_zPfdJU7QnPzAKub7T-2B7vNPb-rB5Mix4jnIF0ArCQKCESodt1YqrEmP_SiEW3nQD7VaQUsquNKIYZT3SEGW88eCcAhbVhHx8T6K33_pIU7UP6WaDEU87OIhxa8cCHyfLCKJr0a1lFPtMRybOEunitZMkSitiHAj_dU6kVsJihl8TjFbC9obJKesi9YEL0M.gtqJlnrpBcFAxDZ8Xj3ZDsGMknNJkhGYOyIzsjmHVtQ&dib_tag=se&keywords=skincare&qid=1730404219&sprefix=skincare%2Caps%2C412&sr=8-1'"
      ]
     },
     "execution_count": 90,
     "metadata": {},
     "output_type": "execute_result"
    }
   ],
   "source": [
    "product_list"
   ]
  },
  {
   "cell_type": "code",
   "execution_count": 91,
   "id": "5ca5b212-758a-4714-9e79-c252bc6eb799",
   "metadata": {},
   "outputs": [],
   "source": [
    "new_webpage = requests.get(product_list, headers=HEADERS)"
   ]
  },
  {
   "cell_type": "code",
   "execution_count": 92,
   "id": "e08dbcae-ced0-4bf6-bfb2-acbb4d4aa780",
   "metadata": {},
   "outputs": [
    {
     "data": {
      "text/plain": [
       "<Response [200]>"
      ]
     },
     "execution_count": 92,
     "metadata": {},
     "output_type": "execute_result"
    }
   ],
   "source": [
    "new_webpage"
   ]
  },
  {
   "cell_type": "code",
   "execution_count": 93,
   "id": "6c93cd5c-f498-446f-90a5-d8d2c14bf338",
   "metadata": {},
   "outputs": [],
   "source": [
    "new_soup = BeautifulSoup(new_webpage.content, \"html.parser\")"
   ]
  },
  {
   "cell_type": "code",
   "execution_count": 94,
   "id": "52c36931-d9a6-4a8e-838e-a1bce006f759",
   "metadata": {},
   "outputs": [
    {
     "data": {
      "text/plain": [
       "'BIODANCE Bio-Collagen Real Deep Mask, Hydrating Overnight Hydrogel Mask, Pore Minimizing, Elasticity Improvement, 34g x4ea'"
      ]
     },
     "execution_count": 94,
     "metadata": {},
     "output_type": "execute_result"
    }
   ],
   "source": [
    "new_soup.find(\"span\", attrs={\"id\":'productTitle'}).text.strip()"
   ]
  },
  {
   "cell_type": "code",
   "execution_count": 95,
   "id": "cda6d7a1-f7f7-486d-a717-16f12813b7ad",
   "metadata": {},
   "outputs": [
    {
     "data": {
      "text/plain": [
       "' $19.00'"
      ]
     },
     "execution_count": 95,
     "metadata": {},
     "output_type": "execute_result"
    }
   ],
   "source": [
    "new_soup.find(\"span\", attrs={\"class\":'a-price aok-align-center reinventPricePriceToPayMargin priceToPay'}).text"
   ]
  },
  {
   "cell_type": "code",
   "execution_count": null,
   "id": "84dd8fca-f862-47dc-b50b-fc88750d291c",
   "metadata": {},
   "outputs": [],
   "source": []
  },
  {
   "cell_type": "markdown",
   "id": "25d7c2bf-cd05-4e01-93fe-1af42c30e830",
   "metadata": {},
   "source": [
    "# Web Scraping Product Details From Amazon"
   ]
  },
  {
   "cell_type": "markdown",
   "id": "5b7ed7c1-a4bd-4be1-9419-39d588e4ec72",
   "metadata": {},
   "source": [
    "## Introduction"
   ]
  },
  {
   "cell_type": "markdown",
   "id": "619280bd-e20e-47cc-bb3f-ab18212c2b8a",
   "metadata": {},
   "source": [
    "### In this project, I will develop a function to extract details of face cleansing product from a popular online store in Nigeria and save the information in CSV file format. The details I will retrieve include:"
   ]
  },
  {
   "cell_type": "markdown",
   "id": "116f72e7-e56b-4e74-b20a-dc1a1088f1ca",
   "metadata": {},
   "source": [
    "1. Product Names\n",
    "2. Brands\n",
    "3. Prices\n",
    "4. Ratings\n",
    "5. Reviews\n",
    "6. Availability"
   ]
  },
  {
   "cell_type": "code",
   "execution_count": 76,
   "id": "e8771e4f-0a89-4201-be34-e4c4c3248e6a",
   "metadata": {},
   "outputs": [],
   "source": [
    "# Importing libraries\n",
    "import requests\n",
    "import pandas as pd\n",
    "import numpy as np\n",
    "from bs4 import BeautifulSoup"
   ]
  },
  {
   "cell_type": "markdown",
   "id": "f2b50c55-acb5-4c9c-8227-6f321aa0c8ae",
   "metadata": {},
   "source": [
    "# Web Scrape Functions"
   ]
  },
  {
   "cell_type": "code",
   "execution_count": 96,
   "id": "ddccbc43-5f4f-4897-9e01-d1a32b92bd3f",
   "metadata": {},
   "outputs": [],
   "source": [
    "# To extract product name\n",
    "def get_title(soup):\n",
    "\n",
    "    try:\n",
    "        \n",
    "        title = soup.find('span', attrs = {'id': 'productTitle'})\n",
    "        \n",
    "        # name_tag content and using the strip() to remove any whitespae\n",
    "        title_value = title.text\n",
    "        \n",
    "        title_string = title_value.strip()\n",
    "        \n",
    "\n",
    "        \n",
    "    except AttributeError:\n",
    "        title_string =\"\"\n",
    "        \n",
    "    return title_string\n",
    "\n",
    "\n",
    "#To extract product price\n",
    "def get_price(soup):\n",
    "    \n",
    "    try:\n",
    "        price = soup.find('span', attrs = {'id': 'priceblock_ourprice'}).string.strip()\n",
    "\n",
    "        \n",
    "    except AttributeError:\n",
    "        try:\n",
    "            \n",
    "            price = soup.find(\"span\", attrs={'id','priceblock_dealprrice'}).string.strip()\n",
    "\n",
    "        except:\n",
    "            \n",
    "            price = \"\"\n",
    "                                                                                              \n",
    "    return price\n",
    "\n",
    "#To extract product rating\n",
    "def get_rating(soup):\n",
    "    try:\n",
    "        rating = soup.find(\"i\", attrs = {'class': 'a-icon a-icon-star a-star-4-5'}).string.strip()\n",
    "\n",
    "    except AttributeError:\n",
    "        try:\n",
    "            rating = soup.find(\"span\", attrs={'class':'a-icon-alt'}).string.strip()\n",
    "            \n",
    "        except:\n",
    "            \n",
    "            rating = ''\n",
    "        \n",
    "    return rating\n",
    "\n",
    "#to extract product review\n",
    "def get_review_count(soup):\n",
    "    try:\n",
    "        review_count = soup.find(\"span\", attrs = {'id': 'acrCustomerReviewText'}).string.strip()\n",
    "\n",
    "    except AttributeError:\n",
    "       review_count = \"\"\n",
    "        \n",
    "    return review_count\n",
    "\n",
    "#to get product availability\n",
    "def get_availability(soup):\n",
    "\n",
    "    try:\n",
    "        available = soup.find(\"div\", attrs = {'id': 'availability'})\n",
    "        available = available.find(\"span\").string.strip()\n",
    "        \n",
    "    except AttributeError:\n",
    "        available = 'Not Available'\n",
    "\n",
    "    return available\n"
   ]
  },
  {
   "cell_type": "code",
   "execution_count": 100,
   "id": "6a85b3b1-98b8-415a-ac71-64ba605fb8df",
   "metadata": {},
   "outputs": [
    {
     "data": {
      "text/html": [
       "<div>\n",
       "<style scoped>\n",
       "    .dataframe tbody tr th:only-of-type {\n",
       "        vertical-align: middle;\n",
       "    }\n",
       "\n",
       "    .dataframe tbody tr th {\n",
       "        vertical-align: top;\n",
       "    }\n",
       "\n",
       "    .dataframe thead th {\n",
       "        text-align: right;\n",
       "    }\n",
       "</style>\n",
       "<table border=\"1\" class=\"dataframe\">\n",
       "  <thead>\n",
       "    <tr style=\"text-align: right;\">\n",
       "      <th></th>\n",
       "      <th>title</th>\n",
       "      <th>price</th>\n",
       "      <th>rating</th>\n",
       "      <th>reviews</th>\n",
       "      <th>availability</th>\n",
       "    </tr>\n",
       "  </thead>\n",
       "  <tbody>\n",
       "    <tr>\n",
       "      <th>0</th>\n",
       "      <td>BIODANCE Bio-Collagen Real Deep Mask, Hydratin...</td>\n",
       "      <td></td>\n",
       "      <td>4.4 out of 5 stars</td>\n",
       "      <td>7,077 ratings</td>\n",
       "      <td>In Stock</td>\n",
       "    </tr>\n",
       "    <tr>\n",
       "      <th>1</th>\n",
       "      <td>Paula's Choice SKIN PERFECTING 2% BHA Liquid S...</td>\n",
       "      <td></td>\n",
       "      <td>4.7 out of 5 stars</td>\n",
       "      <td>103,131 ratings</td>\n",
       "      <td>In Stock</td>\n",
       "    </tr>\n",
       "    <tr>\n",
       "      <th>2</th>\n",
       "      <td>Anua Heartleaf Pore Control Cleansing Oil, Oil...</td>\n",
       "      <td></td>\n",
       "      <td>4.5 out of 5 stars</td>\n",
       "      <td>12,803 ratings</td>\n",
       "      <td>In Stock</td>\n",
       "    </tr>\n",
       "    <tr>\n",
       "      <th>3</th>\n",
       "      <td>Glow Recipe PHA + BHA Face Toner - Korean Skin...</td>\n",
       "      <td></td>\n",
       "      <td>4.5 out of 5 stars</td>\n",
       "      <td>3,432 ratings</td>\n",
       "      <td>In Stock</td>\n",
       "    </tr>\n",
       "    <tr>\n",
       "      <th>4</th>\n",
       "      <td>Bubble Skincare Cloud Surf Water Cream Face Mo...</td>\n",
       "      <td></td>\n",
       "      <td>4.4 out of 5 stars</td>\n",
       "      <td>137 ratings</td>\n",
       "      <td>In Stock</td>\n",
       "    </tr>\n",
       "    <tr>\n",
       "      <th>5</th>\n",
       "      <td>e.l.f. SKIN Hydrated Ever After Skincare Mini ...</td>\n",
       "      <td></td>\n",
       "      <td>4.7 out of 5 stars</td>\n",
       "      <td>4,563 ratings</td>\n",
       "      <td>In Stock</td>\n",
       "    </tr>\n",
       "  </tbody>\n",
       "</table>\n",
       "</div>"
      ],
      "text/plain": [
       "                                               title price  \\\n",
       "0  BIODANCE Bio-Collagen Real Deep Mask, Hydratin...         \n",
       "1  Paula's Choice SKIN PERFECTING 2% BHA Liquid S...         \n",
       "2  Anua Heartleaf Pore Control Cleansing Oil, Oil...         \n",
       "3  Glow Recipe PHA + BHA Face Toner - Korean Skin...         \n",
       "4  Bubble Skincare Cloud Surf Water Cream Face Mo...         \n",
       "5  e.l.f. SKIN Hydrated Ever After Skincare Mini ...         \n",
       "\n",
       "               rating          reviews availability  \n",
       "0  4.4 out of 5 stars    7,077 ratings     In Stock  \n",
       "1  4.7 out of 5 stars  103,131 ratings     In Stock  \n",
       "2  4.5 out of 5 stars   12,803 ratings     In Stock  \n",
       "3  4.5 out of 5 stars    3,432 ratings     In Stock  \n",
       "4  4.4 out of 5 stars      137 ratings     In Stock  \n",
       "5  4.7 out of 5 stars    4,563 ratings     In Stock  "
      ]
     },
     "execution_count": 100,
     "metadata": {},
     "output_type": "execute_result"
    }
   ],
   "source": [
    "amazon_df"
   ]
  },
  {
   "cell_type": "code",
   "execution_count": null,
   "id": "ba3110ef-c42e-4d73-88b5-20c2bde7b796",
   "metadata": {},
   "outputs": [],
   "source": []
  },
  {
   "cell_type": "code",
   "execution_count": null,
   "id": "781438ea-ae50-484e-aed8-17e78b6a0c8c",
   "metadata": {},
   "outputs": [],
   "source": []
  }
 ],
 "metadata": {
  "kernelspec": {
   "display_name": "Python 3 (ipykernel)",
   "language": "python",
   "name": "python3"
  },
  "language_info": {
   "codemirror_mode": {
    "name": "ipython",
    "version": 3
   },
   "file_extension": ".py",
   "mimetype": "text/x-python",
   "name": "python",
   "nbconvert_exporter": "python",
   "pygments_lexer": "ipython3",
   "version": "3.12.4"
  }
 },
 "nbformat": 4,
 "nbformat_minor": 5
}
